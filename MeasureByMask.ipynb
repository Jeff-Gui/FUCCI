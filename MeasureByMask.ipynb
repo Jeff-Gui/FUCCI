{
 "cells": [
  {
   "cell_type": "code",
   "execution_count": 21,
   "metadata": {},
   "outputs": [],
   "source": [
    "import numpy as np\n",
    "import skimage.external.tifffile as tif # .tiff IO\n",
    "import os\n",
    "import matplotlib.pyplot as plt\n",
    "import skimage.measure as measure\n",
    "import skimage.io as io"
   ]
  },
  {
   "cell_type": "code",
   "execution_count": 43,
   "metadata": {},
   "outputs": [],
   "source": [
    "os.getcwd() # check workinh directory\n",
    "# Constants\n",
    "GFP_path = 'data/GFP.tif'\n",
    "mCherry_path = 'data/mCherry.tif'\n",
    "MASK_path = 'data/sampleMask.tif'"
   ]
  },
  {
   "cell_type": "code",
   "execution_count": 62,
   "metadata": {},
   "outputs": [
    {
     "name": "stdout",
     "output_type": "stream",
     "text": [
      "(20, 1200, 1200) (20, 1200, 1200) (20, 1200, 1200)\n"
     ]
    }
   ],
   "source": [
    "# All input dimension should be (FRAME_NUMBER, 1200, 1200)\n",
    "mask = tif.imread(MASK_path)\n",
    "gfp = tif.imread(GFP_path)\n",
    "mcy = tif.imread(mCherry_path)\n",
    "print(np.shape(mask), np.shape(gfp), np.shape(mcy))\n",
    "frame_num = np.shape(mask)[0]"
   ]
  },
  {
   "cell_type": "code",
   "execution_count": 66,
   "metadata": {},
   "outputs": [
    {
     "name": "stdout",
     "output_type": "stream",
     "text": [
      "20\n"
     ]
    },
    {
     "data": {
      "image/png": "[encoded data removed]",
      "text/plain": [
       "<Figure size 432x288 with 1 Axes>"
      ]
     },
     "metadata": {
      "needs_background": "light"
     },
     "output_type": "display_data"
    }
   ],
   "source": [
    "io.imshow(mask[1,:,:])"
   ]
  },
  {
   "cell_type": "code",
   "execution_count": 55,
   "metadata": {},
   "outputs": [],
   "source": [
    "gfp_frame = measure.regionprops(\n",
    "    measure.label(mask[1,:,:]),\n",
    "    intensity_image = gfp[1,:,:])\n",
    "mcy_frame = measure.regionprops(\n",
    "    measure.label(mask[1,:,:]),\n",
    "    intensity_image = mcy[1,:,:])\n",
    "# Reference: https://blog.csdn.net/u013066730/article/details/87971770"
   ]
  },
  {
   "cell_type": "code",
   "execution_count": 68,
   "metadata": {},
   "outputs": [],
   "source": [
    "gfp_intensity = []\n",
    "mcy_intensity = []\n",
    "for j in range(frame_num):\n",
    "    gfp_frame = measure.regionprops(\n",
    "        measure.label(mask[j,:,:]),\n",
    "        intensity_image = gfp[j,:,:])\n",
    "    mcy_frame = measure.regionprops(\n",
    "        measure.label(mask[j,:,:]),\n",
    "        intensity_image = mcy[j,:,:])\n",
    "    for i in range(len(gfp_frame)):\n",
    "        gfp_intensity.append(gfp_frame[i].mean_intensity)\n",
    "        mcy_intensity.append(mcy_frame[i].mean_intensity)"
   ]
  },
  {
   "cell_type": "code",
   "execution_count": 71,
   "metadata": {},
   "outputs": [
    {
     "data": {
      "text/plain": [
       "Text(0, 0.5, 'GFP')"
      ]
     },
     "execution_count": 71,
     "metadata": {},
     "output_type": "execute_result"
    },
    {
     "data": {
      "image/png": "[encoded data removed]",
      "text/plain": [
       "<Figure size 432x288 with 1 Axes>"
      ]
     },
     "metadata": {
      "needs_background": "light"
     },
     "output_type": "display_data"
    }
   ],
   "source": [
    "plt.scatter(mcy_intensity, gfp_intensity, marker=\".\")\n",
    "plt.title('Stage 1 first 20 frames', fontsize=24)\n",
    "plt.xlabel('mCherry', fontsize=14)\n",
    "plt.ylabel('GFP', fontsize=14)"
   ]
  }
 ],
 "metadata": {
  "kernelspec": {
   "display_name": "Python 3",
   "language": "python",
   "name": "python3"
  },
  "language_info": {
   "codemirror_mode": {
    "name": "ipython",
    "version": 3
   },
   "file_extension": ".py",
   "mimetype": "text/x-python",
   "name": "python",
   "nbconvert_exporter": "python",
   "pygments_lexer": "ipython3",
   "version": "3.7.4"
  },
  "varInspector": {
   "cols": {
    "lenName": 16,
    "lenType": 16,
    "lenVar": 40
   },
   "kernels_config": {
    "python": {
     "delete_cmd_postfix": "",
     "delete_cmd_prefix": "del ",
     "library": "var_list.py",
     "varRefreshCmd": "print(var_dic_list())"
    },
    "r": {
     "delete_cmd_postfix": ") ",
     "delete_cmd_prefix": "rm(",
     "library": "var_list.r",
     "varRefreshCmd": "cat(var_dic_list()) "
    }
   },
   "types_to_exclude": [
    "module",
    "function",
    "builtin_function_or_method",
    "instance",
    "_Feature"
   ],
   "window_display": true
  }
 },
 "nbformat": 4,
 "nbformat_minor": 4
}
